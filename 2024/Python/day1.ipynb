{
 "cells": [
  {
   "cell_type": "code",
   "execution_count": 1,
   "metadata": {},
   "outputs": [],
   "source": [
    "from pathlib import Path\n",
    "\n",
    "import polars as pl\n",
    "from aoc.polars_utils import pl_group_all\n",
    "\n",
    "data = Path(\"../Data/day1.txt\").read_text()\n",
    "\n",
    "EXAMPLE = \"\"\"\n",
    "3   4\n",
    "4   3\n",
    "2   5\n",
    "1   3\n",
    "3   9\n",
    "3   3\n",
    "\"\"\"\n",
    "\n",
    "\n",
    "def parse(input: str):\n",
    "    def map_line(line: str):\n",
    "        splitten_line = line.split(\"   \")\n",
    "\n",
    "        try:\n",
    "            return {\"left\": int(splitten_line[0]), \"right\": int(splitten_line[1])}\n",
    "        except ValueError:\n",
    "            return {\"left\": None, \"right\": None}\n",
    "\n",
    "    return (\n",
    "        pl.LazyFrame(\n",
    "            map(map_line, input.splitlines()), {\"left\": pl.Int64, \"right\": pl.Int64}\n",
    "        )\n",
    "        .filter(pl.col(\"left\") is not None)\n",
    "        .with_columns(\n",
    "            pl.col(\"left\").sort().alias(\"left_sorted\"),\n",
    "            pl.col(\"right\").sort().alias(\"right_sorted\"),\n",
    "        )\n",
    "        .drop(\"left\", \"right\")\n",
    "        .rename({\"left_sorted\": \"left\", \"right_sorted\": \"right\"})\n",
    "    )\n",
    "\n",
    "\n",
    "example_data_frame = parse(EXAMPLE)\n",
    "data_frame = parse(data)"
   ]
  },
  {
   "cell_type": "code",
   "execution_count": 2,
   "metadata": {},
   "outputs": [
    {
     "data": {
      "text/html": [
       "<div><style>\n",
       ".dataframe > thead > tr,\n",
       ".dataframe > tbody > tr {\n",
       "  text-align: right;\n",
       "  white-space: pre-wrap;\n",
       "}\n",
       "</style>\n",
       "<small>shape: (1, 1)</small><table border=\"1\" class=\"dataframe\"><thead><tr><th>difference</th></tr><tr><td>i64</td></tr></thead><tbody><tr><td>1882714</td></tr></tbody></table></div>"
      ],
      "text/plain": [
       "shape: (1, 1)\n",
       "┌────────────┐\n",
       "│ difference │\n",
       "│ ---        │\n",
       "│ i64        │\n",
       "╞════════════╡\n",
       "│ 1882714    │\n",
       "└────────────┘"
      ]
     },
     "execution_count": 2,
     "metadata": {},
     "output_type": "execute_result"
    }
   ],
   "source": [
    "def part1(input: pl.LazyFrame):\n",
    "    return pl_group_all(\n",
    "        input.with_columns(\n",
    "            (pl.col(\"left\") - pl.col(\"right\")).abs().alias(\"difference\")\n",
    "        ),\n",
    "        lambda grouped_data_frame: grouped_data_frame.agg(pl.col(\"difference\").sum()),\n",
    "    ).collect()\n",
    "\n",
    "\n",
    "assert part1(example_data_frame).get_column(\"difference\")[0] == 11\n",
    "\n",
    "part1(data_frame)"
   ]
  },
  {
   "cell_type": "code",
   "execution_count": 3,
   "metadata": {},
   "outputs": [
    {
     "data": {
      "text/html": [
       "<div><style>\n",
       ".dataframe > thead > tr,\n",
       ".dataframe > tbody > tr {\n",
       "  text-align: right;\n",
       "  white-space: pre-wrap;\n",
       "}\n",
       "</style>\n",
       "<small>shape: (1, 1)</small><table border=\"1\" class=\"dataframe\"><thead><tr><th>score</th></tr><tr><td>i64</td></tr></thead><tbody><tr><td>19437052</td></tr></tbody></table></div>"
      ],
      "text/plain": [
       "shape: (1, 1)\n",
       "┌──────────┐\n",
       "│ score    │\n",
       "│ ---      │\n",
       "│ i64      │\n",
       "╞══════════╡\n",
       "│ 19437052 │\n",
       "└──────────┘"
      ]
     },
     "execution_count": 3,
     "metadata": {},
     "output_type": "execute_result"
    }
   ],
   "source": [
    "def part2(input: pl.LazyFrame):\n",
    "    return pl_group_all(\n",
    "        input.select(\"right\")\n",
    "        .group_by(\"right\")\n",
    "        .agg(pl.col(\"right\").count().alias(\"count\"))\n",
    "        .with_columns(pl.col(\"right\").alias(\"left\"))\n",
    "        .join(input.select(\"left\"), on=\"left\")\n",
    "        .with_columns((pl.col(\"count\") * pl.col(\"left\")).alias(\"score\")),\n",
    "        lambda grouped_data_frame: grouped_data_frame.agg(pl.col(\"score\").sum()),\n",
    "    ).collect()\n",
    "\n",
    "\n",
    "assert part2(example_data_frame).get_column(\"score\")[0] == 31\n",
    "\n",
    "part2(data_frame)"
   ]
  }
 ],
 "metadata": {
  "kernelspec": {
   "display_name": ".venv",
   "language": "python",
   "name": "python3"
  },
  "language_info": {
   "codemirror_mode": {
    "name": "ipython",
    "version": 3
   },
   "file_extension": ".py",
   "mimetype": "text/x-python",
   "name": "python",
   "nbconvert_exporter": "python",
   "pygments_lexer": "ipython3",
   "version": "3.12.6"
  }
 },
 "nbformat": 4,
 "nbformat_minor": 2
}
