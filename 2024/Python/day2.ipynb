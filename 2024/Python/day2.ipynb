{
 "cells": [
  {
   "cell_type": "code",
   "execution_count": 1,
   "metadata": {},
   "outputs": [],
   "source": [
    "from pathlib import Path\n",
    "\n",
    "data_file = Path(\"../Data/day2.txt\").read_text()\n",
    "\n",
    "EXAMPLE = \"\"\"7 6 4 2 1\n",
    "1 2 7 8 9\n",
    "9 7 6 2 1\n",
    "1 3 2 4 5\n",
    "8 6 4 4 1\n",
    "1 3 6 7 9\"\"\"\n",
    "\n",
    "\n",
    "def prepare(input: str):\n",
    "    return list(map(lambda line: list(map(int, line.split(\" \"))), input.splitlines()))\n",
    "\n",
    "\n",
    "def differences(report: list[int]):\n",
    "    diffs: list[int] = []\n",
    "    for index in range(len(report) - 1):\n",
    "        difference = report[index + 1] - report[index]\n",
    "        diffs.append(difference)\n",
    "\n",
    "    return diffs\n",
    "\n",
    "\n",
    "def all_increasing(diffs: list[int]):\n",
    "    for difference in diffs:\n",
    "        if not (difference > 0 and difference <= 3):\n",
    "            return False\n",
    "\n",
    "    return True\n",
    "\n",
    "\n",
    "def all_decreasing(diffs: list[int]):\n",
    "    for difference in diffs:\n",
    "        if not (difference >= -3 and difference < 0):\n",
    "            return False\n",
    "\n",
    "    return True\n",
    "\n",
    "\n",
    "def is_safe(report: list[int]):\n",
    "    diffs = differences(report)\n",
    "\n",
    "    return all_increasing(diffs) or all_decreasing(diffs)\n",
    "\n",
    "\n",
    "def check_reports(reports: list[list[int]], tolerate_one_error: bool = False):\n",
    "    safe_count = 0\n",
    "    for report in reports:\n",
    "        if is_safe(report):\n",
    "            safe_count += 1\n",
    "            continue\n",
    "\n",
    "        if not tolerate_one_error:\n",
    "            continue\n",
    "\n",
    "        for index in range(len(report)):\n",
    "            modified_report = report[:index] + report[index + 1 :]\n",
    "            if is_safe(modified_report):\n",
    "                safe_count += 1\n",
    "                break\n",
    "\n",
    "    return safe_count\n",
    "\n",
    "\n",
    "example_data = prepare(EXAMPLE)\n",
    "data = prepare(data_file)"
   ]
  },
  {
   "cell_type": "code",
   "execution_count": 2,
   "metadata": {},
   "outputs": [
    {
     "name": "stdout",
     "output_type": "stream",
     "text": [
      "safe reports 670\n"
     ]
    }
   ],
   "source": [
    "def part1(input: list[list[int]]):\n",
    "    return check_reports(input)\n",
    "\n",
    "\n",
    "assert part1(example_data) == 2\n",
    "\n",
    "result = part1(data)\n",
    "\n",
    "assert result == 670\n",
    "\n",
    "print(\"safe reports\", result)"
   ]
  },
  {
   "cell_type": "code",
   "execution_count": 3,
   "metadata": {},
   "outputs": [
    {
     "name": "stdout",
     "output_type": "stream",
     "text": [
      "safe reports 700\n"
     ]
    }
   ],
   "source": [
    "def part2(input: list[list[int]]):\n",
    "    return check_reports(input, True)\n",
    "\n",
    "\n",
    "assert part2(example_data) == 4\n",
    "\n",
    "result = part2(data)\n",
    "\n",
    "assert result != 688\n",
    "assert result != 692\n",
    "assert result != 701\n",
    "assert result == 700\n",
    "\n",
    "print(\"safe reports\", result)"
   ]
  }
 ],
 "metadata": {
  "kernelspec": {
   "display_name": ".venv",
   "language": "python",
   "name": "python3"
  },
  "language_info": {
   "codemirror_mode": {
    "name": "ipython",
    "version": 3
   },
   "file_extension": ".py",
   "mimetype": "text/x-python",
   "name": "python",
   "nbconvert_exporter": "python",
   "pygments_lexer": "ipython3",
   "version": "3.12.6"
  }
 },
 "nbformat": 4,
 "nbformat_minor": 2
}
