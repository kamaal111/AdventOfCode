{
 "cells": [
  {
   "cell_type": "code",
   "execution_count": 1,
   "metadata": {},
   "outputs": [],
   "source": [
    "from pathlib import Path\n",
    "\n",
    "from aoc.decorators import timeit\n",
    "\n",
    "data_file = Path(\"../Data/dayx.txt\").read_text()\n",
    "\n",
    "EXAMPLE = \"\"\"\n",
    "\"\"\"\n",
    "\n",
    "\n",
    "def prepare(input: str):\n",
    "    return input"
   ]
  },
  {
   "cell_type": "code",
   "execution_count": 2,
   "metadata": {},
   "outputs": [
    {
     "name": "stdout",
     "output_type": "stream",
     "text": [
      "def part1(input): took: 0.0000 sec\n",
      "def part1(input): took: 0.0000 sec\n",
      "result is 0\n"
     ]
    }
   ],
   "source": [
    "@timeit\n",
    "def part1(input: str):\n",
    "    _ = prepare(input)\n",
    "    return 0\n",
    "\n",
    "\n",
    "example_result = part1(EXAMPLE)\n",
    "\n",
    "assert (\n",
    "    example_result == 0\n",
    "), f\"Expected example result to be 0, but got {example_result} instead\"\n",
    "\n",
    "result = part1(data_file)\n",
    "\n",
    "print(\"result is\", result)\n",
    "\n",
    "assert result == 0, f\"Expected result to be 0, but got {result} instead\""
   ]
  },
  {
   "cell_type": "code",
   "execution_count": 3,
   "metadata": {},
   "outputs": [
    {
     "name": "stdout",
     "output_type": "stream",
     "text": [
      "def part2(input): took: 0.0000 sec\n",
      "def part2(input): took: 0.0000 sec\n",
      "result is 0\n"
     ]
    }
   ],
   "source": [
    "@timeit\n",
    "def part2(input: str):\n",
    "    _ = prepare(input)\n",
    "    return 0\n",
    "\n",
    "\n",
    "example_result = part2(EXAMPLE)\n",
    "\n",
    "assert (\n",
    "    example_result == 0\n",
    "), f\"Expected example result to be 0, but got {example_result} instead\"\n",
    "\n",
    "result = part2(data_file)\n",
    "\n",
    "print(\"result is\", result)\n",
    "\n",
    "assert result == 0, f\"Expected result to be 0, but got {result} instead\""
   ]
  }
 ],
 "metadata": {
  "kernelspec": {
   "display_name": ".venv",
   "language": "python",
   "name": "python3"
  },
  "language_info": {
   "codemirror_mode": {
    "name": "ipython",
    "version": 3
   },
   "file_extension": ".py",
   "mimetype": "text/x-python",
   "name": "python",
   "nbconvert_exporter": "python",
   "pygments_lexer": "ipython3",
   "version": "3.12.7"
  }
 },
 "nbformat": 4,
 "nbformat_minor": 2
}
