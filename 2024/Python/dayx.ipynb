{
 "cells": [
  {
   "cell_type": "code",
   "execution_count": 1,
   "metadata": {},
   "outputs": [],
   "source": [
    "from pathlib import Path\n",
    "\n",
    "from aoc.decorators import timeit\n",
    "\n",
    "PreparedInput = str\n",
    "\n",
    "data_file = Path(\"../Data/dayx.txt\").read_text()\n",
    "\n",
    "EXAMPLE = \"\"\"\n",
    "\"\"\"\n",
    "\n",
    "\n",
    "def prepare(input: str) -> PreparedInput:\n",
    "    return input\n",
    "\n",
    "\n",
    "data = prepare(data_file)\n",
    "example_data = prepare(EXAMPLE)"
   ]
  },
  {
   "cell_type": "code",
   "execution_count": 2,
   "metadata": {},
   "outputs": [
    {
     "name": "stdout",
     "output_type": "stream",
     "text": [
      "def part1(input): took: 0.0000 sec\n",
      "example result is 0\n",
      "def part1(input): took: 0.0000 sec\n",
      "result is 0\n"
     ]
    }
   ],
   "source": [
    "@timeit\n",
    "def part1(input: PreparedInput):\n",
    "    return 0\n",
    "\n",
    "\n",
    "example_result = part1(example_data)\n",
    "\n",
    "print(\"example result is\", example_result)\n",
    "\n",
    "assert example_result == 0\n",
    "\n",
    "result = part1(data)\n",
    "\n",
    "print(\"result is\", result)\n",
    "\n",
    "assert result == 0"
   ]
  },
  {
   "cell_type": "code",
   "execution_count": 3,
   "metadata": {},
   "outputs": [
    {
     "name": "stdout",
     "output_type": "stream",
     "text": [
      "def part2(input): took: 0.0000 sec\n",
      "example result is 0\n",
      "def part2(input): took: 0.0000 sec\n",
      "result is 0\n"
     ]
    }
   ],
   "source": [
    "@timeit\n",
    "def part2(input: PreparedInput):\n",
    "    return 0\n",
    "\n",
    "\n",
    "example_result = part2(example_data)\n",
    "\n",
    "print(\"example result is\", example_result)\n",
    "\n",
    "assert example_result == 0\n",
    "\n",
    "result = part2(data)\n",
    "\n",
    "print(\"result is\", result)\n",
    "\n",
    "assert result == 0"
   ]
  }
 ],
 "metadata": {
  "kernelspec": {
   "display_name": ".venv",
   "language": "python",
   "name": "python3"
  },
  "language_info": {
   "codemirror_mode": {
    "name": "ipython",
    "version": 3
   },
   "file_extension": ".py",
   "mimetype": "text/x-python",
   "name": "python",
   "nbconvert_exporter": "python",
   "pygments_lexer": "ipython3",
   "version": "3.12.7"
  }
 },
 "nbformat": 4,
 "nbformat_minor": 2
}
