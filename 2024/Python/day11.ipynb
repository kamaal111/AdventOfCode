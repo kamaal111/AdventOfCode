{
 "cells": [
  {
   "cell_type": "code",
   "execution_count": 1,
   "metadata": {},
   "outputs": [],
   "source": [
    "from pathlib import Path\n",
    "\n",
    "from aoc.decorators import timeit\n",
    "\n",
    "data_file = Path(\"../Data/day11.txt\").read_text()\n",
    "\n",
    "EXAMPLE = \"0 1 10 99 999\"\n",
    "EXAMPLE2 = \"125 17\"\n",
    "\n",
    "\n",
    "def prepare(input: str):\n",
    "    return list(map(int, input.splitlines()[0].split(\" \")))\n",
    "\n",
    "\n",
    "def stone_has_even_digits(stone: int):\n",
    "    return (len(str(stone)) % 2) == 0\n",
    "\n",
    "\n",
    "def even_stone_replacement(stone: int):\n",
    "    stone_string = str(stone)\n",
    "    split_point = len(stone_string) // 2\n",
    "\n",
    "    return [\n",
    "        int(stone_string[:split_point]),\n",
    "        int(stone_string[split_point:]),\n",
    "    ]\n",
    "\n",
    "\n",
    "def changer(stone: int) -> int:\n",
    "    if stone == 0:\n",
    "        return 1\n",
    "\n",
    "    return stone * 2024\n",
    "\n",
    "\n",
    "def rule_dispatcher(stones: list[int], stone_index: int) -> int:\n",
    "    stone = stones[stone_index]\n",
    "    if stone_has_even_digits(stone):\n",
    "        stones[stone_index : stone_index + 1] = even_stone_replacement(stone)\n",
    "        return 1\n",
    "    else:\n",
    "        stones[stone_index] = changer(stone)\n",
    "\n",
    "    return 0\n",
    "\n",
    "\n",
    "def blink(stones: list[int]):\n",
    "    shift = 0\n",
    "    for stone_index in range(len(stones)):\n",
    "        shift += rule_dispatcher(stones, stone_index + shift)\n",
    "\n",
    "    return stones"
   ]
  },
  {
   "cell_type": "code",
   "execution_count": 2,
   "metadata": {},
   "outputs": [
    {
     "name": "stdout",
     "output_type": "stream",
     "text": [
      "def part1(input): took: 0.1373 sec\n",
      "def part1(input): took: 1.2996 sec\n",
      "result is 203953\n"
     ]
    }
   ],
   "source": [
    "@timeit\n",
    "def part1(input: str):\n",
    "    stones = prepare(input)\n",
    "    blinks = 25\n",
    "    for _ in range(blinks):\n",
    "        stones = blink(stones)\n",
    "\n",
    "    return len(stones)\n",
    "\n",
    "\n",
    "example_result = part1(EXAMPLE2)\n",
    "\n",
    "assert (\n",
    "    example_result == 55312\n",
    "), f\"Expected example result to be 55312, but got {example_result} instead\"\n",
    "\n",
    "result = part1(data_file)\n",
    "\n",
    "print(\"result is\", result)\n",
    "\n",
    "assert result == 203953, f\"Expected result to be 203953, but got {result} instead\""
   ]
  },
  {
   "cell_type": "code",
   "execution_count": null,
   "metadata": {},
   "outputs": [
    {
     "name": "stdout",
     "output_type": "stream",
     "text": [
      "def part2(input): took: 0.0490 sec\n",
      "def part2(input): took: 0.0569 sec\n",
      "result is 275862\n"
     ]
    },
    {
     "ename": "AssertionError",
     "evalue": "Expected result to be 0, but got 275862 instead",
     "output_type": "error",
     "traceback": [
      "\u001b[0;31m---------------------------------------------------------------------------\u001b[0m",
      "\u001b[0;31mAssertionError\u001b[0m                            Traceback (most recent call last)",
      "Cell \u001b[0;32mIn[3], line 33\u001b[0m\n\u001b[1;32m     29\u001b[0m result \u001b[38;5;241m=\u001b[39m part2(data_file)\n\u001b[1;32m     31\u001b[0m \u001b[38;5;28mprint\u001b[39m(\u001b[38;5;124m\"\u001b[39m\u001b[38;5;124mresult is\u001b[39m\u001b[38;5;124m\"\u001b[39m, result)\n\u001b[0;32m---> 33\u001b[0m \u001b[38;5;28;01massert\u001b[39;00m result \u001b[38;5;241m==\u001b[39m \u001b[38;5;241m0\u001b[39m, \u001b[38;5;124mf\u001b[39m\u001b[38;5;124m\"\u001b[39m\u001b[38;5;124mExpected result to be 0, but got \u001b[39m\u001b[38;5;132;01m{\u001b[39;00mresult\u001b[38;5;132;01m}\u001b[39;00m\u001b[38;5;124m instead\u001b[39m\u001b[38;5;124m\"\u001b[39m\n",
      "\u001b[0;31mAssertionError\u001b[0m: Expected result to be 0, but got 275862 instead"
     ]
    }
   ],
   "source": [
    "from functools import reduce\n",
    "\n",
    "\n",
    "@timeit\n",
    "def part2(input: str):\n",
    "    stones: dict[int, int] = reduce(\n",
    "        lambda acc, stone: {**acc, stone: acc.get(stone, 0) + 1}, prepare(input), {}\n",
    "    )\n",
    "    blinks = 75\n",
    "    for _ in range(blinks):\n",
    "        looping_stones = stones.copy()\n",
    "        for stone in looping_stones.keys():\n",
    "            if stone_has_even_digits(stone):\n",
    "                for replacement_stone in even_stone_replacement(stone):\n",
    "                    stones[replacement_stone] = stones.get(replacement_stone, 0) + 1\n",
    "            else:\n",
    "                replacement_stone = changer(stone)\n",
    "                stones[replacement_stone] = stones.get(replacement_stone, 0) + 1\n",
    "\n",
    "    return sum(stones.values())\n",
    "\n",
    "\n",
    "example_result = part2(EXAMPLE)\n",
    "\n",
    "assert (\n",
    "    example_result == 244753\n",
    "), f\"Expected example result to be 244753, but got {example_result} instead\"\n",
    "\n",
    "result = part2(data_file)\n",
    "\n",
    "print(\"result is\", result)\n",
    "\n",
    "assert (\n",
    "    result > 275862\n",
    "), f\"Expected result to be greater than 275862, but got {result} instead\""
   ]
  }
 ],
 "metadata": {
  "kernelspec": {
   "display_name": ".venv",
   "language": "python",
   "name": "python3"
  },
  "language_info": {
   "codemirror_mode": {
    "name": "ipython",
    "version": 3
   },
   "file_extension": ".py",
   "mimetype": "text/x-python",
   "name": "python",
   "nbconvert_exporter": "python",
   "pygments_lexer": "ipython3",
   "version": "3.12.7"
  }
 },
 "nbformat": 4,
 "nbformat_minor": 2
}
