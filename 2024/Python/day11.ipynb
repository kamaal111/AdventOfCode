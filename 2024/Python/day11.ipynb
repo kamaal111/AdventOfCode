{
 "cells": [
  {
   "cell_type": "code",
   "execution_count": 1,
   "metadata": {},
   "outputs": [],
   "source": [
    "from functools import reduce\n",
    "from pathlib import Path\n",
    "\n",
    "from aoc.decorators import timeit\n",
    "\n",
    "data_file = Path(\"../Data/day11.txt\").read_text()\n",
    "\n",
    "EXAMPLE = \"0 1 10 99 999\"\n",
    "EXAMPLE2 = \"125 17\"\n",
    "\n",
    "\n",
    "def prepare(input: str) -> dict[int, int]:\n",
    "    return reduce(\n",
    "        lambda acc, stone: {**acc, stone: acc.get(stone, 0) + 1},\n",
    "        (map(int, input.splitlines()[0].split(\" \"))),\n",
    "        {},\n",
    "    )\n",
    "\n",
    "\n",
    "def blink(stones: dict[int, int]):\n",
    "    for stone, count in stones.copy().items():\n",
    "        stone_string = str(stone)\n",
    "        if (len(stone_string) % 2) == 0:\n",
    "            split_point = len(stone_string) // 2\n",
    "            left_half, right_half = (\n",
    "                int(stone_string[:split_point]),\n",
    "                int(stone_string[split_point:]),\n",
    "            )\n",
    "            stones[left_half] = stones.get(left_half, 0) + count\n",
    "            stones[right_half] = stones.get(right_half, 0) + count\n",
    "        elif stone == 0:\n",
    "            stones[1] = stones.get(1, 0) + count\n",
    "        else:\n",
    "            replacement_stone = stone * 2024\n",
    "            stones[replacement_stone] = stones.get(replacement_stone, 0) + count\n",
    "\n",
    "        stones[stone] -= count\n",
    "        assert stones[stone] >= 0\n",
    "\n",
    "    return stones\n",
    "\n",
    "\n",
    "def simulate(input: str, blinks: int):\n",
    "    stones = prepare(input)\n",
    "    for _ in range(blinks):\n",
    "        stones = blink(stones)\n",
    "\n",
    "    return sum(stones.values())"
   ]
  },
  {
   "cell_type": "code",
   "execution_count": 2,
   "metadata": {},
   "outputs": [
    {
     "name": "stdout",
     "output_type": "stream",
     "text": [
      "def part1(input): took: 0.0005 sec\n",
      "def part1(input): took: 0.0032 sec\n",
      "result is 203953\n"
     ]
    }
   ],
   "source": [
    "BLINKS = 25\n",
    "\n",
    "\n",
    "@timeit\n",
    "def part1(input: str):\n",
    "    return simulate(input, BLINKS)\n",
    "\n",
    "\n",
    "example_result = part1(EXAMPLE2)\n",
    "\n",
    "assert (\n",
    "    example_result == 55312\n",
    "), f\"Expected example result to be 55312, but got {example_result} instead\"\n",
    "\n",
    "result = part1(data_file)\n",
    "\n",
    "print(\"result is\", result)\n",
    "\n",
    "assert result == 203953, f\"Expected result to be 203953, but got {result} instead\""
   ]
  },
  {
   "cell_type": "code",
   "execution_count": 3,
   "metadata": {},
   "outputs": [
    {
     "name": "stdout",
     "output_type": "stream",
     "text": [
      "def part2(input): took: 0.0505 sec\n",
      "def part2(input): took: 0.0567 sec\n",
      "result is 242090118578155\n"
     ]
    }
   ],
   "source": [
    "BLINKS = 75\n",
    "\n",
    "\n",
    "@timeit\n",
    "def part2(input: str):\n",
    "    return simulate(input, BLINKS)\n",
    "\n",
    "\n",
    "example_result = part2(EXAMPLE)\n",
    "\n",
    "assert (\n",
    "    example_result == 149161030616311\n",
    "), f\"Expected example result to be 149161030616311, but got {example_result} instead\"\n",
    "\n",
    "result = part2(data_file)\n",
    "\n",
    "print(\"result is\", result)\n",
    "\n",
    "assert (\n",
    "    result > 275862\n",
    "), f\"Expected result to be greater than 275862, but got {result} instead\"\n",
    "assert (\n",
    "    result == 242090118578155\n",
    "), f\"Expected result to be 275862, but got {result} instead\""
   ]
  }
 ],
 "metadata": {
  "kernelspec": {
   "display_name": ".venv",
   "language": "python",
   "name": "python3"
  },
  "language_info": {
   "codemirror_mode": {
    "name": "ipython",
    "version": 3
   },
   "file_extension": ".py",
   "mimetype": "text/x-python",
   "name": "python",
   "nbconvert_exporter": "python",
   "pygments_lexer": "ipython3",
   "version": "3.12.7"
  }
 },
 "nbformat": 4,
 "nbformat_minor": 2
}
