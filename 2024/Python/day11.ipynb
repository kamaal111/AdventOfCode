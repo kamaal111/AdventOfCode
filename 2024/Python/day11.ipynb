{
 "cells": [
  {
   "cell_type": "code",
   "execution_count": null,
   "metadata": {},
   "outputs": [],
   "source": [
    "from pathlib import Path\n",
    "\n",
    "from aoc.decorators import timeit\n",
    "\n",
    "data_file = Path(\"../Data/day11.txt\").read_text()\n",
    "\n",
    "EXAMPLE = \"0 1 10 99 999\"\n",
    "EXAMPLE2 = \"125 17\"\n",
    "\n",
    "\n",
    "def prepare(input: str):\n",
    "    return list(map(int, input.splitlines()[0].split(\" \")))\n",
    "\n",
    "\n",
    "def rule_dispatcher(stones: list[int], stone_index: int) -> tuple[list[int], int]:\n",
    "    stone = stones[stone_index]\n",
    "    if stone == 0:\n",
    "        stones[stone_index] = 1\n",
    "\n",
    "        return stones, 0\n",
    "\n",
    "    if (len(str(stone)) % 2) == 0:\n",
    "        stone = str(stones[stone_index])\n",
    "        split_point = len(stone) // 2\n",
    "        stones[stone_index : (stone_index + 1)] = [\n",
    "            int(stone[:split_point]),\n",
    "            int(stone[split_point:]),\n",
    "        ]\n",
    "\n",
    "        return stones, 1\n",
    "\n",
    "    stones[stone_index] = stones[stone_index] * 2024\n",
    "\n",
    "    return stones, 0\n",
    "\n",
    "\n",
    "def blink(stones: list[int]):\n",
    "    shift = 0\n",
    "    for stone_index in range(len(stones)):\n",
    "        stones, new_shift = rule_dispatcher(stones, stone_index + shift)\n",
    "        shift += new_shift\n",
    "\n",
    "    return stones"
   ]
  },
  {
   "cell_type": "code",
   "execution_count": null,
   "metadata": {},
   "outputs": [
    {
     "name": "stdout",
     "output_type": "stream",
     "text": [
      "def part1(input): took: 0.1183 sec\n",
      "def part1(input): took: 1.3514 sec\n",
      "result is 203953\n"
     ]
    }
   ],
   "source": [
    "@timeit\n",
    "def part1(input: str):\n",
    "    stones = prepare(input)\n",
    "    blinks = 25\n",
    "    for _ in range(blinks):\n",
    "        stones = blink(stones)\n",
    "\n",
    "    return len(stones)\n",
    "\n",
    "\n",
    "example_result = part1(EXAMPLE2)\n",
    "\n",
    "assert (\n",
    "    example_result == 55312\n",
    "), f\"Expected example result to be 55312, but got {example_result} instead\"\n",
    "\n",
    "result = part1(data_file)\n",
    "\n",
    "print(\"result is\", result)\n",
    "\n",
    "assert result == 203953, f\"Expected result to be 203953, but got {result} instead\""
   ]
  },
  {
   "cell_type": "code",
   "execution_count": null,
   "metadata": {},
   "outputs": [],
   "source": [
    "@timeit\n",
    "def part2(input: str):\n",
    "    stones = prepare(input)\n",
    "    blinks = 75\n",
    "    for i in range(blinks):\n",
    "        stones = blink(stones)\n",
    "        print(\"blinked\", i)\n",
    "\n",
    "    return len(stones)\n",
    "\n",
    "\n",
    "# example_result = part2(EXAMPLE)\n",
    "# print(\"example result is\", example_result)\n",
    "\n",
    "# assert (\n",
    "#     example_result == 0\n",
    "# ), f\"Expected example result to be 0, but got {example_result} instead\"\n",
    "\n",
    "# result = part2(data_file)\n",
    "\n",
    "# print(\"result is\", result)\n",
    "\n",
    "# assert result == 0, f\"Expected result to be 0, but got {result} instead\""
   ]
  }
 ],
 "metadata": {
  "kernelspec": {
   "display_name": ".venv",
   "language": "python",
   "name": "python3"
  },
  "language_info": {
   "codemirror_mode": {
    "name": "ipython",
    "version": 3
   },
   "file_extension": ".py",
   "mimetype": "text/x-python",
   "name": "python",
   "nbconvert_exporter": "python",
   "pygments_lexer": "ipython3",
   "version": "3.12.7"
  }
 },
 "nbformat": 4,
 "nbformat_minor": 2
}
