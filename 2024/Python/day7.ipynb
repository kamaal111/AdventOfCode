{
 "cells": [
  {
   "cell_type": "code",
   "execution_count": 1,
   "metadata": {},
   "outputs": [],
   "source": [
    "from collections import OrderedDict\n",
    "from pathlib import Path\n",
    "\n",
    "data_file = Path(\"../Data/day7.txt\").read_text()\n",
    "\n",
    "EXAMPLE = \"\"\"190: 10 19\n",
    "3267: 81 40 27\n",
    "83: 17 5\n",
    "156: 15 6\n",
    "7290: 6 8 6 15\n",
    "161011: 16 10 13\n",
    "192: 17 8 14\n",
    "21037: 9 7 18 13\n",
    "292: 11 6 16 20\"\"\"\n",
    "\n",
    "\n",
    "def prepare(input: str):\n",
    "    def map_line(line: str):\n",
    "        line_split = line.split(\": \")\n",
    "\n",
    "        return int(line_split[0]), list(map(int, line_split[1].split(\" \")))\n",
    "\n",
    "    return OrderedDict(map(map_line, input.splitlines()))\n",
    "\n",
    "\n",
    "data = prepare(data_file)\n",
    "example_data = prepare(EXAMPLE)"
   ]
  },
  {
   "cell_type": "code",
   "execution_count": null,
   "metadata": {},
   "outputs": [
    {
     "ename": "IndexError",
     "evalue": "list index out of range",
     "output_type": "error",
     "traceback": [
      "\u001b[0;31m---------------------------------------------------------------------------\u001b[0m",
      "\u001b[0;31mIndexError\u001b[0m                                Traceback (most recent call last)",
      "Cell \u001b[0;32mIn[2], line 28\u001b[0m\n\u001b[1;32m     23\u001b[0m             \u001b[38;5;28;01mreturn\u001b[39;00m \u001b[38;5;28;01mTrue\u001b[39;00m\n\u001b[1;32m     25\u001b[0m     \u001b[38;5;28;01mreturn\u001b[39;00m \u001b[38;5;28;01mFalse\u001b[39;00m\n\u001b[0;32m---> 28\u001b[0m \u001b[38;5;28;01massert\u001b[39;00m \u001b[38;5;129;01mnot\u001b[39;00m \u001b[43mis_it_mathing\u001b[49m\u001b[43m(\u001b[49m\u001b[38;5;241;43m193655182003\u001b[39;49m\u001b[43m,\u001b[49m\u001b[43m \u001b[49m\u001b[43m[\u001b[49m\u001b[38;5;241;43m3\u001b[39;49m\u001b[43m,\u001b[49m\u001b[43m \u001b[49m\u001b[38;5;241;43m8\u001b[39;49m\u001b[43m,\u001b[49m\u001b[43m \u001b[49m\u001b[38;5;241;43m91\u001b[39;49m\u001b[43m,\u001b[49m\u001b[43m \u001b[49m\u001b[38;5;241;43m7\u001b[39;49m\u001b[43m,\u001b[49m\u001b[43m \u001b[49m\u001b[38;5;241;43m1\u001b[39;49m\u001b[43m,\u001b[49m\u001b[43m \u001b[49m\u001b[38;5;241;43m1\u001b[39;49m\u001b[43m,\u001b[49m\u001b[43m \u001b[49m\u001b[38;5;241;43m7\u001b[39;49m\u001b[43m,\u001b[49m\u001b[43m \u001b[49m\u001b[38;5;241;43m8\u001b[39;49m\u001b[43m,\u001b[49m\u001b[43m \u001b[49m\u001b[38;5;241;43m7\u001b[39;49m\u001b[43m,\u001b[49m\u001b[43m \u001b[49m\u001b[38;5;241;43m8\u001b[39;49m\u001b[43m,\u001b[49m\u001b[43m \u001b[49m\u001b[38;5;241;43m200\u001b[39;49m\u001b[43m,\u001b[49m\u001b[43m \u001b[49m\u001b[38;5;241;43m1\u001b[39;49m\u001b[43m]\u001b[49m\u001b[43m)\u001b[49m\n\u001b[1;32m     29\u001b[0m \u001b[38;5;66;03m# assert is_it_mathing(3267, [81, 40, 27])\u001b[39;00m\n\u001b[1;32m     30\u001b[0m \u001b[38;5;66;03m# assert is_it_mathing(2963, [79, 4, 204, 6, 16, 821, 404])\u001b[39;00m\n\u001b[1;32m     33\u001b[0m \u001b[38;5;28;01mdef\u001b[39;00m \u001b[38;5;21mpart1\u001b[39m(\u001b[38;5;28minput\u001b[39m: OrderedDict[\u001b[38;5;28mint\u001b[39m, \u001b[38;5;28mlist\u001b[39m[\u001b[38;5;28mint\u001b[39m]]):\n",
      "Cell \u001b[0;32mIn[2], line 20\u001b[0m, in \u001b[0;36mis_it_mathing\u001b[0;34m(expected_result, values)\u001b[0m\n\u001b[1;32m     18\u001b[0m \u001b[38;5;28;01mdef\u001b[39;00m \u001b[38;5;21mis_it_mathing\u001b[39m(expected_result: \u001b[38;5;28mint\u001b[39m, values: \u001b[38;5;28mlist\u001b[39m[\u001b[38;5;28mint\u001b[39m]):\n\u001b[1;32m     19\u001b[0m     \u001b[38;5;28;01mfor\u001b[39;00m operations \u001b[38;5;129;01min\u001b[39;00m product([\u001b[38;5;124m\"\u001b[39m\u001b[38;5;124m+\u001b[39m\u001b[38;5;124m\"\u001b[39m, \u001b[38;5;124m\"\u001b[39m\u001b[38;5;124m*\u001b[39m\u001b[38;5;124m\"\u001b[39m], repeat\u001b[38;5;241m=\u001b[39m\u001b[38;5;28mlen\u001b[39m(values)):\n\u001b[0;32m---> 20\u001b[0m         result \u001b[38;5;241m=\u001b[39m \u001b[43mcalculate\u001b[49m\u001b[43m(\u001b[49m\u001b[43moperations\u001b[49m\u001b[43m,\u001b[49m\u001b[43m \u001b[49m\u001b[43mvalues\u001b[49m\u001b[43m)\u001b[49m\n\u001b[1;32m     21\u001b[0m         \u001b[38;5;28mprint\u001b[39m(operations)\n\u001b[1;32m     22\u001b[0m         \u001b[38;5;28;01mif\u001b[39;00m expected_result \u001b[38;5;241m==\u001b[39m result:\n",
      "Cell \u001b[0;32mIn[2], line 8\u001b[0m, in \u001b[0;36mcalculate\u001b[0;34m(operations, values)\u001b[0m\n\u001b[1;32m      6\u001b[0m \u001b[38;5;28;01mfor\u001b[39;00m index, operation \u001b[38;5;129;01min\u001b[39;00m \u001b[38;5;28menumerate\u001b[39m(operations):\n\u001b[1;32m      7\u001b[0m     \u001b[38;5;28;01mif\u001b[39;00m operation \u001b[38;5;241m==\u001b[39m \u001b[38;5;124m\"\u001b[39m\u001b[38;5;124m+\u001b[39m\u001b[38;5;124m\"\u001b[39m:\n\u001b[0;32m----> 8\u001b[0m         result \u001b[38;5;241m+\u001b[39m\u001b[38;5;241m=\u001b[39m \u001b[43mvalues\u001b[49m\u001b[43m[\u001b[49m\u001b[43mindex\u001b[49m\u001b[43m \u001b[49m\u001b[38;5;241;43m+\u001b[39;49m\u001b[43m \u001b[49m\u001b[38;5;241;43m1\u001b[39;49m\u001b[43m]\u001b[49m\n\u001b[1;32m      9\u001b[0m         \u001b[38;5;28;01mcontinue\u001b[39;00m\n\u001b[1;32m     10\u001b[0m     \u001b[38;5;28;01mif\u001b[39;00m operation \u001b[38;5;241m==\u001b[39m \u001b[38;5;124m\"\u001b[39m\u001b[38;5;124m*\u001b[39m\u001b[38;5;124m\"\u001b[39m:\n",
      "\u001b[0;31mIndexError\u001b[0m: list index out of range"
     ]
    }
   ],
   "source": [
    "from itertools import product\n",
    "\n",
    "\n",
    "def calculate(operations: tuple[str, ...], values: list[int]):\n",
    "    result = values[0]\n",
    "    for index, operation in enumerate(operations):\n",
    "        if operation == \"+\":\n",
    "            result += values[index + 1]\n",
    "            continue\n",
    "        if operation == \"*\":\n",
    "            result *= values[index + 1]\n",
    "            continue\n",
    "\n",
    "        raise Exception(\"No!\")\n",
    "\n",
    "    return result\n",
    "\n",
    "\n",
    "def is_it_mathing(expected_result: int, values: list[int]):\n",
    "    for operations in product([\"+\", \"*\"], repeat=len(values) - 1):\n",
    "        result = calculate(operations, values)\n",
    "        if expected_result == result:\n",
    "            return True\n",
    "\n",
    "    return False\n",
    "\n",
    "\n",
    "assert not is_it_mathing(193655182003, [3, 8, 91, 7, 1, 1, 7, 8, 7, 8, 200, 1])\n",
    "assert is_it_mathing(3267, [81, 40, 27])\n",
    "assert is_it_mathing(2963, [79, 4, 204, 6, 16, 821, 404])\n",
    "\n",
    "\n",
    "def part1(input: OrderedDict[int, list[int]]):\n",
    "    calibrations: list[int] = []\n",
    "    for expected_result, values in input.items():\n",
    "        if is_it_mathing(expected_result, values):\n",
    "            calibrations.append(expected_result)\n",
    "\n",
    "    return sum(calibrations)\n",
    "\n",
    "\n",
    "# example_result = part1(example_data)\n",
    "\n",
    "# print(\"example result is\", example_result)\n",
    "\n",
    "# assert example_result == 3749\n",
    "\n",
    "# result = part1(data)\n",
    "\n",
    "# print(\"result is\", result)\n",
    "\n",
    "# assert result > 1_298_103_528_335"
   ]
  }
 ],
 "metadata": {
  "kernelspec": {
   "display_name": ".venv",
   "language": "python",
   "name": "python3"
  },
  "language_info": {
   "codemirror_mode": {
    "name": "ipython",
    "version": 3
   },
   "file_extension": ".py",
   "mimetype": "text/x-python",
   "name": "python",
   "nbconvert_exporter": "python",
   "pygments_lexer": "ipython3",
   "version": "3.12.6"
  }
 },
 "nbformat": 4,
 "nbformat_minor": 2
}
